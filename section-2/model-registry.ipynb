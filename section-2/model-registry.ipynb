{
 "cells": [
  {
   "cell_type": "code",
   "execution_count": 1,
   "id": "37aefd8e-74a7-48e4-ac95-003d98cb0789",
   "metadata": {},
   "outputs": [],
   "source": [
    "from mlflow.tracking import MlflowClient\n",
    "\n",
    "MLFLOW_TRACKING_URI = \"sqlite:///mlflow.db\""
   ]
  },
  {
   "cell_type": "code",
   "execution_count": 2,
   "id": "b016dc6f-9959-4141-baa5-a3382a27186a",
   "metadata": {},
   "outputs": [],
   "source": [
    "client = MlflowClient(tracking_uri=MLFLOW_TRACKING_URI)"
   ]
  },
  {
   "cell_type": "code",
   "execution_count": 3,
   "id": "53087173-b0af-4be8-a9c0-6f0da5e40e26",
   "metadata": {},
   "outputs": [
    {
     "data": {
      "text/plain": [
       "[<Experiment: artifact_location='/workspaces/project/section-2/mlruns/1', creation_time=1719853039311, experiment_id='1', last_update_time=1719853039311, lifecycle_stage='active', name='project-experiment', tags={}>,\n",
       " <Experiment: artifact_location='mlflow-artifacts:/0', creation_time=1719852963603, experiment_id='0', last_update_time=1719852963603, lifecycle_stage='active', name='Default', tags={}>]"
      ]
     },
     "execution_count": 3,
     "metadata": {},
     "output_type": "execute_result"
    }
   ],
   "source": [
    "client.search_experiments()"
   ]
  },
  {
   "cell_type": "code",
   "execution_count": 4,
   "id": "a5a470fb-8000-4982-aad9-8a4793be0eea",
   "metadata": {},
   "outputs": [],
   "source": [
    "from mlflow.entities import ViewType\n",
    "\n",
    "runs = client.search_runs(\n",
    "    experiment_ids='1',\n",
    "    filter_string=\"metrics.accuracy < 7\",\n",
    "    run_view_type=ViewType.ACTIVE_ONLY,\n",
    "    max_results=5,\n",
    "    order_by=[\"metrics.accuracy ASC\"]\n",
    ")"
   ]
  },
  {
   "cell_type": "code",
   "execution_count": 6,
   "id": "a55ec05d-f95b-458e-95c5-43f2fc982d69",
   "metadata": {},
   "outputs": [
    {
     "name": "stdout",
     "output_type": "stream",
     "text": [
      "run id: efef04d3fc3a4bee94cd9c03648f82e2, rmse: 0.9393\n",
      "run id: 60f0b5e5336f474c8e034e32e9275f1e, rmse: 0.9393\n"
     ]
    }
   ],
   "source": [
    "for run in runs:\n",
    "    print(f\"run id: {run.info.run_id}, rmse: {run.data.metrics['accuracy']:.4f}\")"
   ]
  },
  {
   "cell_type": "code",
   "execution_count": null,
   "id": "0978a7f1-bf47-43b5-9b2a-d165661001c3",
   "metadata": {},
   "outputs": [],
   "source": [
    "efef04d3fc3a4bee94cd9c03648f82e2"
   ]
  },
  {
   "cell_type": "markdown",
   "id": "20ef0b42-d303-4717-90df-1f0fade5d516",
   "metadata": {},
   "source": [
    "Interacting with Model Registry"
   ]
  },
  {
   "cell_type": "code",
   "execution_count": 11,
   "id": "9a7fab2e-c79f-4267-a35f-2bc04f4154ba",
   "metadata": {},
   "outputs": [],
   "source": [
    "import mlflow\n",
    "\n",
    "mlflow.set_tracking_uri(MLFLOW_TRACKING_URI)"
   ]
  },
  {
   "cell_type": "code",
   "execution_count": 12,
   "id": "d735f34d-65ac-49ff-9c40-8543dbed0244",
   "metadata": {},
   "outputs": [
    {
     "name": "stderr",
     "output_type": "stream",
     "text": [
      "Registered model 'nyc-taxi-regressor' already exists. Creating a new version of this model...\n",
      "Created version '2' of model 'nyc-taxi-regressor'.\n"
     ]
    },
    {
     "data": {
      "text/plain": [
       "<ModelVersion: aliases=[], creation_timestamp=1719569546783, current_stage='None', description=None, last_updated_timestamp=1719569546783, name='nyc-taxi-regressor', run_id='bfb2434a50b54db4b1297dc168dbb7a0', run_link=None, source='/workspaces/MLOps-zoomcamp/02-experiment-tracking/mlruns/1/bfb2434a50b54db4b1297dc168dbb7a0/artifacts/model', status='READY', status_message=None, tags={}, user_id=None, version=2>"
      ]
     },
     "execution_count": 12,
     "metadata": {},
     "output_type": "execute_result"
    }
   ],
   "source": [
    "run_id = \"bfb2434a50b54db4b1297dc168dbb7a0\"\n",
    "model_uri = f\"runs:/{run_id}/model\"\n",
    "mlflow.register_model(model_uri=model_uri, name=\"nyc-taxi-regressor\")"
   ]
  },
  {
   "cell_type": "code",
   "execution_count": 14,
   "id": "52c303af-e22c-4556-a6da-8d9f71ae41cd",
   "metadata": {},
   "outputs": [
    {
     "data": {
      "text/plain": [
       "[<RegisteredModel: aliases={}, creation_timestamp=1719567707948, description='', last_updated_timestamp=1719569546783, latest_versions=[<ModelVersion: aliases=[], creation_timestamp=1719569546783, current_stage='None', description=None, last_updated_timestamp=1719569546783, name='nyc-taxi-regressor', run_id='bfb2434a50b54db4b1297dc168dbb7a0', run_link=None, source='/workspaces/MLOps-zoomcamp/02-experiment-tracking/mlruns/1/bfb2434a50b54db4b1297dc168dbb7a0/artifacts/model', status='READY', status_message=None, tags={}, user_id=None, version=2>], name='nyc-taxi-regressor', tags={'model': 'xgboost'}>]"
      ]
     },
     "execution_count": 14,
     "metadata": {},
     "output_type": "execute_result"
    }
   ],
   "source": [
    "client.search_registered_models()"
   ]
  },
  {
   "cell_type": "markdown",
   "id": "6da68efb-12a8-481f-a615-1d2c144470b4",
   "metadata": {},
   "source": [
    "Verify the models registered wrt its stages"
   ]
  },
  {
   "cell_type": "code",
   "execution_count": 15,
   "id": "109c13fa-861b-4340-bf60-a8f58376be3d",
   "metadata": {},
   "outputs": [
    {
     "name": "stdout",
     "output_type": "stream",
     "text": [
      "version: 2, stage: None\n"
     ]
    },
    {
     "name": "stderr",
     "output_type": "stream",
     "text": [
      "/tmp/ipykernel_49609/669935608.py:2: FutureWarning: ``mlflow.tracking.client.MlflowClient.get_latest_versions`` is deprecated since 2.9.0. Model registry stages will be removed in a future major release. To learn more about the deprecation of model registry stages, see our migration guide here: https://mlflow.org/docs/latest/model-registry.html#migrating-from-stages\n",
      "  latest_versions = client.get_latest_versions(name=model_name)\n"
     ]
    }
   ],
   "source": [
    "model_name = \"nyc-taxi-regressor\"\n",
    "latest_versions = client.get_latest_versions(name=model_name)\n",
    "\n",
    "for version in latest_versions:\n",
    "    print(f\"version: {version.version}, stage: {version.current_stage}\")"
   ]
  },
  {
   "cell_type": "markdown",
   "id": "dcc49ac6-9aeb-49f6-ac8c-53251987d032",
   "metadata": {},
   "source": [
    "Manually transition the stage of particular version of model"
   ]
  },
  {
   "cell_type": "code",
   "execution_count": 16,
   "id": "6537d424-fde4-4071-b8e1-97153e027855",
   "metadata": {},
   "outputs": [
    {
     "name": "stderr",
     "output_type": "stream",
     "text": [
      "/tmp/ipykernel_49609/4090915774.py:3: FutureWarning: ``mlflow.tracking.client.MlflowClient.transition_model_version_stage`` is deprecated since 2.9.0. Model registry stages will be removed in a future major release. To learn more about the deprecation of model registry stages, see our migration guide here: https://mlflow.org/docs/latest/model-registry.html#migrating-from-stages\n",
      "  client.transition_model_version_stage(\n"
     ]
    },
    {
     "data": {
      "text/plain": [
       "<ModelVersion: aliases=[], creation_timestamp=1719569546783, current_stage='Staging', description=None, last_updated_timestamp=1719569835831, name='nyc-taxi-regressor', run_id='bfb2434a50b54db4b1297dc168dbb7a0', run_link=None, source='/workspaces/MLOps-zoomcamp/02-experiment-tracking/mlruns/1/bfb2434a50b54db4b1297dc168dbb7a0/artifacts/model', status='READY', status_message=None, tags={}, user_id=None, version=2>"
      ]
     },
     "execution_count": 16,
     "metadata": {},
     "output_type": "execute_result"
    }
   ],
   "source": [
    "model_version = 2\n",
    "new_stage = \"Staging\"\n",
    "client.transition_model_version_stage(\n",
    "    name=model_name,\n",
    "    version=model_version,\n",
    "    stage=new_stage,\n",
    "    archive_existing_versions=False\n",
    ")"
   ]
  },
  {
   "cell_type": "markdown",
   "id": "8b97488e-30d5-41d3-9121-d9a2a92e4509",
   "metadata": {},
   "source": [
    "Update the registered models with its transition details wrt date and time\n",
    "\n",
    "It is like a description"
   ]
  },
  {
   "cell_type": "code",
   "execution_count": 17,
   "id": "718e7260-0f43-4a96-9c10-1158a8e22838",
   "metadata": {},
   "outputs": [
    {
     "data": {
      "text/plain": [
       "<ModelVersion: aliases=[], creation_timestamp=1719569546783, current_stage='Staging', description='The model version 2 was transitioned to Staging on 2024-06-28', last_updated_timestamp=1719570036197, name='nyc-taxi-regressor', run_id='bfb2434a50b54db4b1297dc168dbb7a0', run_link=None, source='/workspaces/MLOps-zoomcamp/02-experiment-tracking/mlruns/1/bfb2434a50b54db4b1297dc168dbb7a0/artifacts/model', status='READY', status_message=None, tags={}, user_id=None, version=2>"
      ]
     },
     "execution_count": 17,
     "metadata": {},
     "output_type": "execute_result"
    }
   ],
   "source": [
    "from datetime import datetime\n",
    "\n",
    "date = datetime.today().date()\n",
    "client.update_model_version(\n",
    "    name=model_name,\n",
    "    version=model_version,\n",
    "    description=f\"The model version {model_version} was transitioned to {new_stage} on {date}\"\n",
    ")"
   ]
  },
  {
   "cell_type": "code",
   "execution_count": null,
   "id": "f20edbc2-8d9b-4fa6-9cd6-d5d7c0f1f28a",
   "metadata": {},
   "outputs": [],
   "source": []
  },
  {
   "cell_type": "code",
   "execution_count": null,
   "id": "ffb5a032-c4bb-496d-a2b6-a4d1afe625b7",
   "metadata": {},
   "outputs": [],
   "source": []
  },
  {
   "cell_type": "markdown",
   "id": "03ceb32f-0ea7-4224-b42d-01ff42b1dd50",
   "metadata": {},
   "source": [
    "Check the staged version code rmse is predicted good with the test data and move to production\n",
    "\n",
    "we can move to prod and also can check the predictions"
   ]
  },
  {
   "cell_type": "code",
   "execution_count": 31,
   "id": "e2a73a27-6593-49d6-a5ec-91746ad7170f",
   "metadata": {},
   "outputs": [],
   "source": [
    "from sklearn.metrics import mean_squared_error\n",
    "import pandas as pd\n",
    "\n",
    "\n",
    "def read_dataframe(filename):\n",
    "    df = pd.read_csv(filename)\n",
    "\n",
    "    df.tpep_dropoff_datetime = pd.to_datetime(df.tpep_dropoff_datetime)\n",
    "    df.tpep_pickup_datetime = pd.to_datetime(df.tpep_pickup_datetime)\n",
    "\n",
    "    df['duration'] = df.tpep_dropoff_datetime - df.tpep_pickup_datetime\n",
    "    df.duration = df.duration.apply(lambda td: td.total_seconds() / 60)\n",
    "\n",
    "    df = df[(df.duration >= 1) & (df.duration <= 60)]\n",
    "\n",
    "    categorical = ['PULocationID', 'DOLocationID']\n",
    "    df[categorical] = df[categorical].astype(str)\n",
    "    \n",
    "    return df\n",
    "\n",
    "\n",
    "def preprocess(df, dv):\n",
    "    df['PU_DO'] = df['PULocationID'] + '_' + df['DOLocationID']\n",
    "    categorical = ['PU_DO']\n",
    "    numerical = ['trip_distance']\n",
    "    train_dicts = df[categorical + numerical].to_dict(orient='records')\n",
    "    return dv.transform(train_dicts)\n",
    "\n",
    "\n",
    "def test_model(name, stage, X_test, y_test):\n",
    "    model = mlflow.pyfunc.load_model(f\"models:/{name}/{stage}\")\n",
    "    y_pred = model.predict(X_test)\n",
    "    return {\"rmse\": mean_squared_error(y_test, y_pred, squared=False)}"
   ]
  },
  {
   "cell_type": "code",
   "execution_count": 32,
   "id": "b1b874fa-a5e6-4339-974c-54d6fa87cd0b",
   "metadata": {},
   "outputs": [],
   "source": [
    "df = pd.read_parquet('https://d37ci6vzurychx.cloudfront.net/trip-data/yellow_tripdata_2023-02.parquet')"
   ]
  },
  {
   "cell_type": "code",
   "execution_count": null,
   "id": "00091532-8548-4417-9eb0-067fe92c90f3",
   "metadata": {},
   "outputs": [],
   "source": [
    "client.download_artifacts(run_id=run_id, path='preprocessor', dst_path='.')"
   ]
  },
  {
   "cell_type": "code",
   "execution_count": 27,
   "id": "0e4f5515-fdbe-425b-9c85-6e0bfd75b199",
   "metadata": {},
   "outputs": [],
   "source": [
    "import pickle\n",
    "\n",
    "with open(\"models/preprocessor.b\", \"rb\") as f_in:\n",
    "    dv = pickle.load(f_in)"
   ]
  },
  {
   "cell_type": "code",
   "execution_count": null,
   "id": "55d2f48e-2d95-45a7-9648-4b16461a8139",
   "metadata": {},
   "outputs": [],
   "source": [
    "X_test = preprocess(df, dv)"
   ]
  },
  {
   "cell_type": "code",
   "execution_count": null,
   "id": "499de38a-afaa-4fef-b1d4-fa9d1c82b042",
   "metadata": {},
   "outputs": [],
   "source": [
    "target = \"duration\"\n",
    "y_test = df[target].values"
   ]
  },
  {
   "cell_type": "code",
   "execution_count": null,
   "id": "a492833c-79cd-4890-9e18-d773338d1ef2",
   "metadata": {},
   "outputs": [],
   "source": [
    "%time test_model(name=model_name, stage=\"Staging\", X_test=X_test, y_test=y_test)"
   ]
  },
  {
   "cell_type": "code",
   "execution_count": null,
   "id": "6db20d57-56b9-40d9-83bb-9daf26398dff",
   "metadata": {},
   "outputs": [],
   "source": [
    "client.transition_model_version_stage(\n",
    "    name=model_name,\n",
    "    version=4,\n",
    "    stage=\"Production\",\n",
    "    archive_existing_versions=True\n",
    ")"
   ]
  }
 ],
 "metadata": {
  "kernelspec": {
   "display_name": "Python 3 (ipykernel)",
   "language": "python",
   "name": "python3"
  },
  "language_info": {
   "codemirror_mode": {
    "name": "ipython",
    "version": 3
   },
   "file_extension": ".py",
   "mimetype": "text/x-python",
   "name": "python",
   "nbconvert_exporter": "python",
   "pygments_lexer": "ipython3",
   "version": "3.9.19"
  }
 },
 "nbformat": 4,
 "nbformat_minor": 5
}
